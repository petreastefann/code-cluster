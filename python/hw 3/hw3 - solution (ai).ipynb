{
 "cells": [
  {
   "cell_type": "markdown",
   "id": "ffc91598",
   "metadata": {},
   "source": [
    "Se vor folosi type annotations pentru variabile, parametrii tuturor funcțiilor, tipuri de retur. Se vor folosi docstrings pentru toate funcțiile. Neîndeplinirea acestei cerințe duce la înjumătățirea punctajului pentru exercițiul în cauză.  \n",
    "\n",
    "Se acordă doua puncte din oficiu. Fișierul va fi denumit tema3_ia_nume_prenume.ipynb. Verificați înainte de trimitere faptul ca execuția celulelor de sus în jos funcționează corespunzător. Aserțiunile sunt obligatoriu a fi indeplinite. Suplimentar, puteti face verificari si pentru alte valori."
   ]
  },
  {
   "cell_type": "markdown",
   "id": "ad23e658",
   "metadata": {},
   "source": [
    "1. (1p) Pentru un vector de numere, care sunt toate pozitiile pe care apare valoarea minima?\n",
    "Folositi functii NumPy."
   ]
  },
  {
   "cell_type": "code",
   "execution_count": 1,
   "id": "b72d0c3b",
   "metadata": {},
   "outputs": [
    {
     "name": "stdout",
     "output_type": "stream",
     "text": [
      "[ 0  6  7 13]\n"
     ]
    }
   ],
   "source": [
    "import numpy as np\n",
    "\n",
    "def get_all_positions_of_min(arr: np.ndarray) -> np.array:\n",
    "    \"\"\"returns a tuple of all positions of the min value in the array.\n",
    "    weirdly np.where() also generates the datatype so i have to only use the index 0 of the function\n",
    "    # yes\"\"\"\n",
    "    minimum = np.min(arr)\n",
    "    positions_of_min= (np.where(arr == minimum)[0])\n",
    "    return positions_of_min\n",
    "\n",
    "if __name__ == '__main__':\n",
    "    v = np.array([1, 2, 3, 4, 4, 3, 1] * 2, dtype=np.float32)  #array*2 is like string*2. it doubles it\n",
    "    positions_of_min= get_all_positions_of_min(v)\n",
    "    print(positions_of_min)\n",
    "    \n",
    "    assert np.all(positions_of_min == [ 0,  6,  7, 13])"
   ]
  },
  {
   "cell_type": "markdown",
   "id": "a676a350",
   "metadata": {},
   "source": [
    "2. (1p) Construiti o functie care, primind o matrice, determina pe ce pozitii (linii, coloane) se afla valorile in intervalele [a, b] sau [c, d] date ca parametri. Functia va returna un tuplu de doi vectori: primul e cu indicii de linie, al doilea cu indicii de coloana unde se afla elementele cautate.\n",
    "\n",
    "Exemplu:"
   ]
  },
  {
   "cell_type": "code",
   "execution_count": 2,
   "id": "c4c2b27a",
   "metadata": {
    "ExecuteTime": {
     "end_time": "2022-10-15T16:50:11.192833Z",
     "start_time": "2022-10-15T16:50:11.178288Z"
    }
   },
   "outputs": [
    {
     "name": "stdout",
     "output_type": "stream",
     "text": [
      "[[ 0  1  2  3]\n",
      " [ 4  5  6  7]\n",
      " [ 8  9 10 11]]\n",
      "rows: [0, 0, 1, 1, 1, 2]\n",
      "columns: [2, 3, 0, 2, 3, 0] \n",
      "\n",
      "[[  0  -1  -2  -3]\n",
      " [ -4  -5  -6  -7]\n",
      " [ -8  -9 -10 -11]]\n",
      "rows: []\n",
      "columns: [] \n",
      "\n"
     ]
    }
   ],
   "source": [
    "from typing import List\n",
    "import numpy as np\n",
    "\n",
    "def pos_values(matrix: np.ndarray, a:int, b:int, c:int, d:int) ->tuple:\n",
    "    \"\"\"instead of having two loops, i looped through a tuple made of both a,b and c,d. for every element in the matrix \n",
    "    check if it satifies the condition of being in the range of a,b and c,d. if yes -> add it to the lists accordingly\"\"\"\n",
    "    print(matrix)\n",
    "    rows: List=[]\n",
    "    columns: List=[]\n",
    "    two_intervals: tuple[tuple]=((a, b), (c, d))\n",
    "    for left_limit, right_limit in two_intervals:\n",
    "        for(indexes, value) in np.ndenumerate(matrix):\n",
    "            if value >= left_limit and value <= right_limit:\n",
    "                rows.append(indexes[0])\n",
    "                columns.append(indexes[1])\n",
    "    print(\"rows:\", rows)\n",
    "    print(\"columns:\", columns, '\\n')\n",
    "    return (rows, columns)\n",
    "\n",
    "if __name__ == '__main__':\n",
    "    mat = np.arange(12).reshape(3, 4)\n",
    "    rows, cols = pos_values(mat, 2, 4, 6, 8)\n",
    "    assert np.all(rows == [0, 0, 1, 1, 1, 2])\n",
    "    assert np.all(cols == [2, 3, 0, 2, 3, 0])\n",
    "\n",
    "    mat = -np.arange(12).reshape(3, 4)\n",
    "    rows, cols = pos_values(mat, 2, 4, 6, 8)\n",
    "    assert np.all(rows == [])\n",
    "    assert np.all(cols == [])"
   ]
  },
  {
   "cell_type": "markdown",
   "id": "54daf93f",
   "metadata": {},
   "source": [
    "3. (1p) Se da un vector cu numere intregi nenule. Sa se determine toti indicii `i` unde urmeaza o schimbare de semn. Codul se va scrie intr-o functie adnotata.\n",
    "\n",
    "Exemplu: \n",
    "```python\n",
    "v = [1, 2, -1, 2, 3, -1, 3, -10, -10, -10]\n",
    "```\n",
    "Trebuie sa rezulte vectorul de indici: `[1, 2, 4, 5, 6]`.\n",
    "\n",
    "De luat in considerare ca:\n",
    "1. Magnitudinea valorilor nu conteaza, doar semnele lor\n",
    "1. Functia `where` gaseste indicii unde anumite proprietati sunt indeplinite"
   ]
  },
  {
   "cell_type": "code",
   "execution_count": 3,
   "id": "f6f92c03",
   "metadata": {
    "ExecuteTime": {
     "end_time": "2022-10-15T17:38:02.957500Z",
     "start_time": "2022-10-15T17:38:02.939480Z"
    }
   },
   "outputs": [],
   "source": [
    "import numpy as np\n",
    "\n",
    "def jumping(v: np.array)->np.array:\n",
    "    \"\"\"function to find the indexes where a change of sign happens AFTER the said index\\n\n",
    "    -->use np.diff() to get the difference between the elem of the array like this: \\n\n",
    "    array of signs:    [+1  +1  -1  +1  +1  -1  +1  -1  -1  -1] -> changes happen AFTER the indexes: 1, 2, 4, 5, 6\\n\n",
    "    using np.diff on it: [+0  -2  +2  +0  -2  +2  -2  +0  +0] -> changes happen AT the indexes: 1, 2, 4, 5, 6 (marked by non-zero elements)\\n\n",
    "    -->np.where() goes through the array and returns the indexes where the condition given is true\"\"\"\n",
    "    assert np.all( v != 0), 'All values should be non-zero'\n",
    "    i_list_of_sign_changes: List[int]=np.diff(np.sign(v))\n",
    "    i_list_of_sign_changes=np.where(i_list_of_sign_changes != 0)[0]\n",
    "    return i_list_of_sign_changes\n",
    "\n",
    "if __name__ == '__main__':\n",
    "    # test 1\n",
    "    v: np.array = np.array([1, 2, -1, 2, 3, -1, 3, -10, -10, -10])\n",
    "    assert np.all(jumping(v) == [1, 2, 4, 5, 6])\n",
    "\n",
    "    # test 2: random vector, naive counting\n",
    "    v = np.random.randint(-100, 100, 1000)\n",
    "    # patching 0 values\n",
    "    v[v==0] = -1\n",
    "    # naive way of counting jumps:\n",
    "    positions = []\n",
    "    for i in range(len(v)-1):\n",
    "        if v[i] * v[i+1] < 0:\n",
    "            positions.append(i)\n",
    "            \n",
    "    assert np.all(positions == jumping(v))"
   ]
  },
  {
   "cell_type": "markdown",
   "id": "4f0f3a3e",
   "metadata": {},
   "source": [
    "4. (1p) Generati o matrice aleatoare de dimensiune m*n care are m valori nan (not-an-number, https://numpy.org/doc/stable/reference/constants.html), la pozitii aleatoare. Determinati apoi suma elementelor non-nan din matrice in doua feluri (construiti doua functii). Comparati sumele returnate.\n",
    "\n",
    "Exemplu:\n",
    "```python\n",
    "a = get_matrix(3, 4)\n",
    "# sa presupunem ca a este\n",
    "a = \n",
    "    1.5 2.2 np.nan\n",
    "    4.3 np.nan np.nan\n",
    "    10.1 5.0 -3.1\n",
    "```\n",
    "\n",
    "Suma elementelor este 20.0.\n",
    "Indicatii: folositi functia `np.random.choice` cu parametri adecvati pentru a alege indici in mod aleator, fara repetare. "
   ]
  },
  {
   "cell_type": "code",
   "execution_count": 4,
   "id": "599c4fad",
   "metadata": {
    "ExecuteTime": {
     "end_time": "2022-10-15T19:03:43.124964Z",
     "start_time": "2022-10-15T19:03:43.096960Z"
    }
   },
   "outputs": [
    {
     "name": "stdout",
     "output_type": "stream",
     "text": [
      "[[ 4.7  4.8  9.4  6.   1.5]\n",
      " [ 7.7  3.4  1.7 -0.5 -7.4]\n",
      " [-8.8 -4.5  5.3  9.6  3.2]]\n",
      "(7, 9, 6)\n",
      "[[ 4.7  4.8  9.4  6.   1.5]\n",
      " [ 7.7  nan  nan -0.5  nan]\n",
      " [-8.8 -4.5  5.3  9.6  3.2]]\n",
      "sum1: 38.4 sum2: 38.4 naiveSum: 38.400000000000006\n"
     ]
    }
   ],
   "source": [
    "import numpy as np\n",
    "from random import sample as rand_sample\n",
    "\n",
    "def get_matrix(m:int, n:int) -> np.ndarray:\n",
    "    \"\"\"i create a matrix of size m, n filled with elements from -10 to 10 randomly.\n",
    "    i then add m indexes from 0 to len(matrix) to a tuple, indexes which will hold nan values.\n",
    "    after that i loop through the tuple of indexes and set the values of the matrix to nan\"\"\"\n",
    "    matrix: np.ndarray=np.random.uniform(low=-10, high=10, size=(m, n)).round(1)\n",
    "    print(matrix)\n",
    "    \n",
    "    indexes_to_nan: tuple=tuple(rand_sample(range(m*n), m))\n",
    "    print(indexes_to_nan)\n",
    "    for i in range(0, len(indexes_to_nan)):\n",
    "        matrix[indexes_to_nan[i]//n][indexes_to_nan[i]%n]=np.nan\n",
    "    print(matrix)\n",
    "    \n",
    "    assert np.sum(np.isnan(matrix)) == m \n",
    "    return matrix\n",
    "\n",
    "def sum_1(matrix:np.ndarray)->float:\n",
    "    \"\"\"returns the sum of all elements in the matrix but the nan ones are treated as 0\"\"\"\n",
    "    return np.nansum(matrix)\n",
    "\n",
    "def sum_2(matrix:np.ndarray)->float:\n",
    "    \"\"\"returns the sum of the elements of the matrix that are not nan.\"\"\"\n",
    "    return np.sum(matrix[~np.isnan(matrix)])\n",
    "\n",
    "def naive_sum(a: np.ndarray) -> float:\n",
    "    \"\"\"cpp style sum*\"\"\"\n",
    "    s = 0\n",
    "    m, n = a.shape\n",
    "    for i in range(m):\n",
    "        for j in range(n):\n",
    "            s += a[i, j] if not np.isnan(a[i, j]) else 0\n",
    "    return s\n",
    "\n",
    "if __name__ == '__main__':\n",
    "    m, n = 3, 5\n",
    "    a = get_matrix(m, n)\n",
    "    sum1= sum_1(a)\n",
    "    sum2 = sum_2(a)\n",
    "    naiveSum = naive_sum(a)\n",
    "    print(\"sum1:\", sum1, \"sum2:\", sum2, \"naiveSum:\", naiveSum)\n",
    "    assert np.allclose(sum1, naiveSum)\n",
    "    assert np.allclose(sum2, naiveSum)\n",
    "    # for students: why is it needed to use allclose and not == ?\n",
    "    # allclose verifies if the two values are close to each other, while '==' verifies if they are equal"
   ]
  },
  {
   "cell_type": "markdown",
   "id": "777e3e47",
   "metadata": {},
   "source": [
    "5. (1p) Folosnd functia `np.convolve`, sa se determine media alunecatoare (moving average) pentru un vector de 10000 de numere aleatoare; lungimea ferestrei alunecatore se da ca parametru al functiei construite de voi. Comparati rezultatele si viteza de executie cu a functiaie `naive_moving_average`.\n",
    "\n",
    "Referinte:\n",
    "1. [Moving average](https://en.wikipedia.org/wiki/Moving_average)\n",
    "1. [np.convolve: How to Use Numpy convolve() Method](https://appdividend.com/2022/10/14/np-convolve/)"
   ]
  },
  {
   "cell_type": "code",
   "execution_count": 5,
   "id": "f8693f11",
   "metadata": {},
   "outputs": [
    {
     "name": "stdout",
     "output_type": "stream",
     "text": [
      "45.6 µs ± 1.1 µs per loop (mean ± std. dev. of 7 runs, 10,000 loops each)\n",
      "64.5 ms ± 1.65 ms per loop (mean ± std. dev. of 7 runs, 10 loops each)\n"
     ]
    }
   ],
   "source": [
    "import numpy as np\n",
    "\n",
    "def moving_average_fast(x:np.array, w:int)->np.array:\n",
    "    \"\"\"returns the moving average of x, with window size w. x will tend to 0\"\"\"\n",
    "    assert x.ndim == 1, 'One dimension numpy array'\n",
    "    assert w > 1, 'Average of at least two values'\n",
    "    return np.convolve(x, np.ones(w), 'valid') / w\n",
    "\n",
    "def moving_average_slow(x:np.array, w:int)->np.array:\n",
    "    \"\"\"same operation but done in a loop\"\"\"\n",
    "    assert x.ndim == 1, 'One dimension numpy array'\n",
    "    assert w > 1, 'Average of at least two values'\n",
    "    result:np.array = np.zeros(x.shape[0]-w+1)\n",
    "    for i in range(x.shape[0]-w+1):\n",
    "        result[i] = np.mean(x[i:i+w])\n",
    "    return result\n",
    "\n",
    "if __name__ == '__main__':\n",
    "    len_vec, w = 10000, 10\n",
    "    x:np.array = np.random.rand(len_vec)\n",
    "\n",
    "    a:np.array = moving_average_fast(x, w)\n",
    "    b:np.array = moving_average_slow(x, w)\n",
    "\n",
    "    assert len(a) == len(b), 'The two methods should return vectors of the same lengths'\n",
    "    assert np.allclose(a, b), 'The two methods should return close vectors'\n",
    "\n",
    "    %timeit moving_average_fast(x, w)\n",
    "    %timeit moving_average_slow(x, w)"
   ]
  },
  {
   "cell_type": "markdown",
   "id": "e9a21733",
   "metadata": {},
   "source": [
    "6. (1p) Se dau vectorii de valori $x=[x_0 \\dots x_{n-1}]$, $t=[t_0, \\dots t_n-1]$, cu $t[0] < t[1] < \\dots$. Sa se calculeze intr-o maniera vectorizata vectorul $v$ ale carui componente sunt:\n",
    "$$\n",
    "v[i] = \\frac{x[i+1] - x[i]}{t[i+1] - t[i]}\n",
    "$$\n",
    "\n",
    "In prealabil sa se verifice (vectorizat sau functii NumPy) ca vectorul $t$ este format doar din valori strict crescatoare. Comparati rezultatele si viteza de executie cu o implementare care construieste vectorul $v$ pas cu pas.\n",
    "\n",
    "Optional: incercati si o implementare folosind Numba. "
   ]
  },
  {
   "cell_type": "code",
   "execution_count": 6,
   "id": "60146771",
   "metadata": {},
   "outputs": [
    {
     "name": "stdout",
     "output_type": "stream",
     "text": [
      "1.17 ms ± 40.5 µs per loop (mean ± std. dev. of 7 runs, 1,000 loops each)\n",
      "70.5 ms ± 781 µs per loop (mean ± std. dev. of 7 runs, 10 loops each)\n"
     ]
    }
   ],
   "source": [
    "import numpy as np\n",
    "from numba import jit\n",
    "\n",
    "@jit\n",
    "def is_increasing(t: np.array) -> bool:\n",
    "    \"\"\"function checks if the array given as parameter is increasing. np.all() returns true if all elements of the array are true.\n",
    "    np.diff() returns the difference between the elements of the array. \n",
    "    ex: for [1, -3, 5, 6, 6] np.diff() returns [-4, 8, 1, 0]\"\"\"\n",
    "    return np.all(np.diff(t) > 0)\n",
    "    # return (np.all(i<j for i, j in zip(t, t[1:])))==True      ###!!!its not functioneaza i dont stiu why\n",
    "\n",
    "@jit\n",
    "def fast_v(x: np.array, t:np.array)->np.array:\n",
    "    \"\"\"usual function of assigning values to an array based on the values of other arrays using a loop.\n",
    "    @jit however changes how the function is executed, making it faster than the usual pythonic way (only works with numpy arrays and loops).\n",
    "    it is usually recommended to let @jit do its job without changing its parameters\"\"\"\n",
    "    assert is_increasing(t), 'non increasing values'\n",
    "    v: list=[]\n",
    "    for i in range(1, len(x)):\n",
    "        v.append((x[i]-x[i-1])//(t[i]-t[i-1]))\n",
    "    return np.array(v)\n",
    "\n",
    "def slow_v(x: np.array, t: np.array)->np.array:\n",
    "    \"\"\"same function as fast_v() but the decorator @jit is not used\"\"\"\n",
    "    assert is_increasing(t), 'non increasing values'\n",
    "    v: list=[]\n",
    "    for i in range(1, len(x)):\n",
    "        v.append((x[i]-x[i-1])//(t[i]-t[i-1]))\n",
    "    return np.array(v)\n",
    "\n",
    "if __name__ == '__main__':\n",
    "    \n",
    "    n:int = 100000\n",
    "    x:np.array = np.random.rand(n)\n",
    "    t:np.array = np.random.randint(1, 10, n)\n",
    "    t:np.array = t.cumsum()\n",
    "    assert is_increasing(t), 't should be an increasing vector'\n",
    "    \n",
    "    v1:np.array = fast_v(x, t)\n",
    "    v2:np.array = slow_v(x, t)\n",
    "    assert v1.shape == v2.shape\n",
    "    assert np.allclose(v1, v2)\n",
    "\n",
    "    %timeit fast_v(x, t)\n",
    "    %timeit slow_v(x, t)\n",
    "    "
   ]
  },
  {
   "cell_type": "markdown",
   "id": "ba619802",
   "metadata": {},
   "source": []
  },
  {
   "cell_type": "markdown",
   "id": "f27b7e8f",
   "metadata": {},
   "source": [
    "7. (2p) Se da o matrice $a$ cu numere reale. \n",
    "    1. Sa se calculeze o alta matrice $b$ care are valorile calculate astfel:\n",
    "    $$\n",
    "    b[i, j] = \\frac{a[i, j] - MIN}{MAX-MIN}\n",
    "    $$\n",
    "    unde $MAX$ si $MIN$ sunt valoarile minima, respectiv maxima din $a$. Tranformarea se face printr-o functie care preia o matrice si returneaza un tuplu compus din matricea $b$ si valorile $MIN$ si $MAX$ \n",
    "    2. Verificati ca in urma acestei transformari matricea $b$ are valorile in intervalul $(-epsilon, 1+epsilon)$, unde $epsilon=1e-5$.\n",
    "    3. Daca se dau $b$, $MIN$, $MAX$, care este transfomarea inversa prin care obtinem matricea $a$ originara? Verificati ca valorile lui $a$ si $a_{reconstituit}$ sunt aproximativ egale. "
   ]
  },
  {
   "cell_type": "code",
   "execution_count": 7,
   "id": "513a8f93",
   "metadata": {},
   "outputs": [
    {
     "name": "stdout",
     "output_type": "stream",
     "text": [
      "[[-0.52838342  0.59222796 -1.2480686  ...  0.77766507 -1.14501967\n",
      "  -0.65204948]\n",
      " [ 1.31708269  1.58993977 -0.42608152 ... -3.07803204 -1.67070125\n",
      "   1.264825  ]\n",
      " [-0.72295785 -1.37132649 -1.80671171 ... -0.38074706 -0.88618744\n",
      "  -1.82160518]\n",
      " ...\n",
      " [ 0.1362522  -0.69060256  0.40383346 ...  1.00568727  0.58586532\n",
      "  -0.67148753]\n",
      " [-1.25262097  0.95814327 -0.00337824 ... -0.68708436  2.05265824\n",
      "   0.44767678]\n",
      " [-0.22802746  0.4521886   0.11012297 ... -0.25103675  0.236781\n",
      "   0.8465719 ]] \n",
      "\n",
      "\n",
      "[[0.43845802 0.59102606 0.34047494 ... 0.61627279 0.35450476 0.42162124]\n",
      " [0.68971296 0.72686167 0.45238613 ... 0.09133066 0.28293472 0.68259822]\n",
      " [0.41196727 0.32369374 0.26441728 ... 0.45855829 0.38974403 0.26238958]\n",
      " ...\n",
      " [0.52894626 0.41637235 0.56537669 ... 0.64731736 0.5901598  0.41897481]\n",
      " [0.33985515 0.64084438 0.50993598 ... 0.41685134 0.78985946 0.57134583]\n",
      " [0.47935063 0.5719601  0.52538884 ... 0.47621798 0.54263297 0.62565426]]\n"
     ]
    }
   ],
   "source": [
    "import numpy as np\n",
    "# from numba import jit\n",
    "\n",
    "def min_max_scale(a: np.ndarray)->tuple():\n",
    "    \"\"\"finds the min and max of 'a'. creates 'b', scaled between 0 and 1 based on 'a' and returns a tuple of 'b', min(a) and max(a).\"\"\"\n",
    "    minimum, maximum=a.min(), a.max()\n",
    "    b=(a-minimum)/(maximum-minimum)\n",
    "    return b, minimum, maximum\n",
    "\n",
    "def check_scaling(y: np.ndarray, eps: float = 1e-5)->bool:\n",
    "    \"\"\"returns true if the elems of the array are between 0 and 1\"\"\"\n",
    "    assert eps > 0\n",
    "    return -eps < y.min() and y.max() < eps + 1\n",
    "\n",
    "def inverse_min_max_scale(y: np.ndarray, MIN: float, MAX: float):\n",
    "    assert MAX > MIN\n",
    "    return y * (MAX - MIN) + MIN\n",
    "\n",
    "if __name__ =='__main__':\n",
    "    m, n = 100, 200\n",
    "    a = np.random.randn(m, n)\n",
    "    print(a, \"\\n\\n\")\n",
    "    assert check_scaling(min_max_scale(a)[0])\n",
    "    b, MIN, MAX = min_max_scale(a)\n",
    "    print(b)\n",
    "    assert np.allclose(a, inverse_min_max_scale(b, MIN, MAX))"
   ]
  }
 ],
 "metadata": {
  "kernelspec": {
   "display_name": "Python 3.10.0 64-bit",
   "language": "python",
   "name": "python3"
  },
  "language_info": {
   "codemirror_mode": {
    "name": "ipython",
    "version": 3
   },
   "file_extension": ".py",
   "mimetype": "text/x-python",
   "name": "python",
   "nbconvert_exporter": "python",
   "pygments_lexer": "ipython3",
   "version": "3.10.0"
  },
  "toc": {
   "base_numbering": 1,
   "nav_menu": {},
   "number_sections": true,
   "sideBar": true,
   "skip_h1_title": false,
   "title_cell": "Table of Contents",
   "title_sidebar": "Contents",
   "toc_cell": false,
   "toc_position": {},
   "toc_section_display": true,
   "toc_window_display": false
  },
  "varInspector": {
   "cols": {
    "lenName": 16,
    "lenType": 16,
    "lenVar": 40
   },
   "kernels_config": {
    "python": {
     "delete_cmd_postfix": "",
     "delete_cmd_prefix": "del ",
     "library": "var_list.py",
     "varRefreshCmd": "print(var_dic_list())"
    },
    "r": {
     "delete_cmd_postfix": ") ",
     "delete_cmd_prefix": "rm(",
     "library": "var_list.r",
     "varRefreshCmd": "cat(var_dic_list()) "
    }
   },
   "types_to_exclude": [
    "module",
    "function",
    "builtin_function_or_method",
    "instance",
    "_Feature"
   ],
   "window_display": false
  },
  "vscode": {
   "interpreter": {
    "hash": "58f10e1b20caf39f3bae4facf866a1e85e14779671631b268474442cf9b2784d"
   }
  }
 },
 "nbformat": 4,
 "nbformat_minor": 5
}
