{
 "cells": [
  {
   "cell_type": "code",
   "execution_count": 1,
   "metadata": {},
   "outputs": [],
   "source": [
    "list1=[23, 45, 4, 658, 8, 9, -4]\n",
    "rezultat_lista_pare=[]\n",
    "for a in reversed(list1):\n",
    "    if a % 2 == 0:\n",
    "        rezultat_lista_pare.append(a)\n",
    "assert rezultat_lista_pare == [-4, 8, 658, 4], \"expected result: [-4, 8, 658, 4]\""
   ]
  },
  {
   "cell_type": "code",
   "execution_count": 2,
   "metadata": {},
   "outputs": [],
   "source": [
    "list2 = [4, 5, 6, 78, 43, 57, 68]\n",
    "evenFound=oddFound=False\n",
    "for a in list2:\n",
    "    if a%2==0 and evenFound==False:\n",
    "        maxEven=a\n",
    "        evenFound=True\n",
    "    if a%2!=0 and oddFound==False:\n",
    "        minOdd=a\n",
    "        oddFound=True\n",
    "    if evenFound and oddFound:\n",
    "        break;\n",
    "for a in list2:\n",
    "    if a%2==0 and a>maxEven:\n",
    "        maxEven=a\n",
    "    elif a%2!=0 and a<minOdd:\n",
    "        minOdd=a\n",
    "result=maxEven+minOdd\n",
    "\n",
    "assert result == 83, \"expected result: 83\""
   ]
  },
  {
   "cell_type": "code",
   "execution_count": 3,
   "metadata": {},
   "outputs": [],
   "source": [
    "word_list=[\"lamaie\", \"maxim\", \"alfabet\",\"carte\", \"inima\", \"barca\", \"lacusta\", \"are\"]\n",
    "words_without_L=[]\n",
    "for word in word_list:\n",
    "    if word[0] != 'l' and word[0]!= 'L':\n",
    "        words_without_L.append(word)\n",
    "words_without_L.sort()\n",
    "assert words_without_L == ['alfabet', 'are', 'barca', 'carte', 'inima', 'maxim'], \"expected result: ['alfabet', 'are', 'barca', 'carte', 'inima', 'maxim']\""
   ]
  },
  {
   "cell_type": "code",
   "execution_count": 4,
   "metadata": {},
   "outputs": [
    {
     "name": "stdout",
     "output_type": "stream",
     "text": [
      "4) Toate perechile de foods sunt: \n",
      "[('tocana', 'ciorba_vacuta'), ('cartofi_prajiti', 'tocana'), ('cartofi_prajiti', 'ciorba_vacuta')]\n"
     ]
    }
   ],
   "source": [
    "foods = {\n",
    "    \"tocana\": [\"cartofi\", \"carne\", \"rosii\", \"ceapa\", \"ulei\"],\n",
    "    \"cartofi_prajiti\" : [\"cartofi\", \"ulei\"],\n",
    "    \"ciorba_vacuta\" : [\"ulei\", \"ceapa\", \"ulei\", \"carne\", \"rosii\", \"cartofi\", \"morcovi\", \"telina\"],\n",
    "    \"savarina\":[\"oua\", \"faina\", \"zahar\", \"frisca\"], \n",
    "    \"musaca\": [\"carne\", \"oua\", \"branza\", \"ceapa\", \"smantana\"]\n",
    "}\n",
    "\n",
    "# 1. Felurile de mancare care nu contin un ingredient dat.\n",
    "ingredient = \"carne\"\n",
    "foods_without_ingredient=[]\n",
    "for key in foods:\n",
    "    withoutIngredient=True\n",
    "    for ing in foods.get(key):\n",
    "        if ing == ingredient:\n",
    "            withoutIngredient=False\n",
    "            break\n",
    "    if withoutIngredient==True:\n",
    "        foods_without_ingredient.append(key)\n",
    "assert foods_without_ingredient == ['cartofi_prajiti', 'savarina'], \"expected result: ['cartofi_prajiti', 'savarina'] \"\n",
    "\n",
    "# 2. Felurile de mancare care contin (dar nu coincid cu) o lista de ingrediente data.\n",
    "ingredients_requested=[\"carne\", \"oua\"]\n",
    "foods_with_requested_ingredients=[]\n",
    "for key in foods:\n",
    "    if ingredients_requested!=foods.get(key):\n",
    "        #if ingredients_requested in foods.get(key):            //it doesnt work... why tho\n",
    "        if(all(x in foods.get(key) for x in ingredients_requested)):\n",
    "            foods_with_requested_ingredients.append(key)\n",
    "assert foods_with_requested_ingredients == ['musaca'], \"expected result: ['musaca'] \"\n",
    "\n",
    "# 3. Felul de mâncare cu cele mai multe ingrediente.\n",
    "    \n",
    "foodWithMaxNbOfIngredients=[next(iter(foods)), 0]\n",
    "lastFood=next(iter(foods))\n",
    "currNbOfIngredients=0\n",
    "#CUM ITEREZ DIRECT DE LA A DOUA CHEIE!!!!!!!!!!!!!!!!!!!!!!!\n",
    "for food, ingredients in foods.items():\n",
    "    currNbOfIngredients=0\n",
    "    for ingredient in ingredients:\n",
    "        currNbOfIngredients+=1\n",
    "    if currNbOfIngredients>foodWithMaxNbOfIngredients[1]:\n",
    "        foodWithMaxNbOfIngredients=[food, currNbOfIngredients]\n",
    "assert foodWithMaxNbOfIngredients[0] == 'ciorba_vacuta', \"expected result: 'ciorba_vacuta'\"\n",
    "\n",
    "# 4. Toate perechile de mâncăruri A, B pentru care lista de ingrediente a lui A este inclusă in (dar nu coincide cu) \n",
    "# lista de ingrediente a lui B. \n",
    "\n",
    "print(\"4) Toate perechile de foods sunt: \")\n",
    "pairs_of_foods = []\n",
    "for key1 in foods:\n",
    "    for key2 in foods:\n",
    "        if foods[key1] != foods[key2] and set(foods[key1]).issubset(set(foods[key2])):\n",
    "            pairs_of_foods.append((key1, key2))\n",
    "print(pairs_of_foods)\n",
    "\n",
    "#  raspuns: (tocana, ciorba_vacuta), (cartofi_prajti, tocana), (cartofi-prajiti, ciorba_vacuta)"
   ]
  },
  {
   "cell_type": "code",
   "execution_count": 5,
   "metadata": {},
   "outputs": [
    {
     "name": "stdout",
     "output_type": "stream",
     "text": [
      "['*n*', 'm*r*', '*l*n*']\n",
      "elena\n",
      "['aaa', 'meme', 'eeeea']\n",
      "mere\n"
     ]
    }
   ],
   "source": [
    "words = ['ana', 'mere', 'elena']\n",
    "# 1. Înlocuiți vocalele cu '*'.\n",
    "#for word in words:\n",
    "#    for i in range(len(word)):\n",
    "#        if i == 'a' or 'e' or 'i' or 'o' or 'u':\n",
    "#            word.replace(word[i], '*')\n",
    "words1=[]\n",
    "counter=-1\n",
    "for word in words:\n",
    "    counter+=1\n",
    "    words1.append('')\n",
    "    for letter in word:\n",
    "        if letter == 'a' or letter == 'e' or letter == 'i' \\\n",
    "             or letter == 'o' or letter == 'u':\n",
    "            words1[counter]+='*'\n",
    "        else:\n",
    "            words1[counter]+=letter\n",
    "print(words1)\n",
    "\n",
    "# 2. Determinați cuvintele cu cele mai multe vocale.\n",
    "wordWithMostVowels=[next(iter(words)), 0]\n",
    "for word in words:\n",
    "    currVowelsNb=0\n",
    "    for letter in word:\n",
    "        if letter == 'a' or 'e' or 'i' or 'o' or 'u':\n",
    "            currVowelsNb+=1\n",
    "    if currVowelsNb > wordWithMostVowels[1]:\n",
    "        wordWithMostVowels = [word, currVowelsNb]\n",
    "print(wordWithMostVowels[0])\n",
    "\n",
    "# 3. Înlocuiți consoanele cu prima literă a cuvântului.\n",
    "list3=[]\n",
    "i_list3=-1\n",
    "for word in words:\n",
    "    i_list3+=1;\n",
    "    list3.append(word[0])\n",
    "    for i in range(1, len(word)):\n",
    "        if word[i]!='a' and word[i]!='e' and word[i]!='i' and word[i]!='o' and word[i]!='u':\n",
    "            list3[i_list3]+=word[0]\n",
    "        else:\n",
    "            list3[i_list3]+=word[i]\n",
    "print(list3)\n",
    "\n",
    "# 4. Determinați cuvintele ce conțin cel puțin 3 litere comune cu un cuvânt dat.\n",
    "word_given='camere'\n",
    "letrSetInWordGiven=''\n",
    "for letter in word_given:\n",
    "    if letter not in letrSetInWordGiven:\n",
    "        letrSetInWordGiven+=letter\n",
    "for word in words:\n",
    "    threeCommonLetters=0\n",
    "    for letter in letrSetInWordGiven:\n",
    "        if threeCommonLetters>=3:\n",
    "            break\n",
    "        elif letter in word:\n",
    "            threeCommonLetters+=1\n",
    "    if threeCommonLetters>=3:\n",
    "        print(word)\n",
    "# cuvant_dat = 'lenes' => răspuns: 'elena'\n",
    "# cuvant_dat = 'camere' => răspuns: 'mere'\n"
   ]
  },
  {
   "cell_type": "code",
   "execution_count": 6,
   "metadata": {},
   "outputs": [],
   "source": [
    "propozitii={\n",
    "    'Ana' : 'S',\n",
    "    'are' : 'P',\n",
    "    'mere' : 'C',\n",
    "    'rosii' : 'A',\n",
    "    'sunt' : 'P',\n",
    "    'acolo':'C',\n",
    "    'copiii': 'S'\n",
    "}\n",
    "# răspuns: \n",
    "# 'Ana' + 'are' + 'mere'\n",
    "# 'Ana' + 'are' + ' acolo'\n",
    "# 'copiii' + 'sunt' + 'acolo'\n",
    "# 'copiii' + 'sunt'\n",
    "# 'copiii' + 'rosii' + 'sunt' + 'acolo' \n",
    "# etc."
   ]
  },
  {
   "cell_type": "code",
   "execution_count": 7,
   "metadata": {},
   "outputs": [
    {
     "name": "stdout",
     "output_type": "stream",
     "text": [
      "the given text:  AI RAMAS ACASA, MARIA?  is palindrome\n"
     ]
    }
   ],
   "source": [
    "# ELE FAC CAFELE.\n",
    "# ALA E SERGIU, NU-I GRESEALA.\n",
    "# AI RAMAS ACASA, MARIA?\n",
    "\n",
    "givenSentence = 'AI RAMAS ACASA, MARIA?'\n",
    "anotherSentence=''\n",
    "for letter in givenSentence:\n",
    "    if letter.isalpha():\n",
    "        anotherSentence+=letter\n",
    "#if anotherSentence==reversed(anotherSentence):\n",
    "#    print('the given sentence: ', givenSentence, ' is palindrome. ')\n",
    "#else:\n",
    "#    print('the given sentence: ', givenSentence, ' is unfortunately NOT palindrome.. ')\n",
    "yetAnotherSentence=''\n",
    "for letter in reversed(anotherSentence):\n",
    "    yetAnotherSentence+=letter\n",
    "if(anotherSentence==yetAnotherSentence):\n",
    "    print('the given text: ', givenSentence, ' is palindrome')\n",
    "else:\n",
    "    print('the given text: ', givenSentence, ' is unfortunately NOT palindrome..')"
   ]
  }
 ],
 "metadata": {
  "kernelspec": {
   "display_name": "Python 3.9.13 ('base')",
   "language": "python",
   "name": "python3"
  },
  "language_info": {
   "codemirror_mode": {
    "name": "ipython",
    "version": 3
   },
   "file_extension": ".py",
   "mimetype": "text/x-python",
   "name": "python",
   "nbconvert_exporter": "python",
   "pygments_lexer": "ipython3",
   "version": "3.9.13"
  },
  "vscode": {
   "interpreter": {
    "hash": "68bc242f1ecbede901b0b7295d6088f16290e3fbce42bbff4ad99309f95db9e6"
   }
  }
 },
 "nbformat": 4,
 "nbformat_minor": 2
}
