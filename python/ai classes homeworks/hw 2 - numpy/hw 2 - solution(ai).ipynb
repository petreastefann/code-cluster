{
 "cells": [
  {
   "cell_type": "markdown",
   "id": "ec9f8041",
   "metadata": {},
   "source": [
    "### Contains\n",
    "\n",
    "1. Exercises with functions\n",
    "1. Exercises with Numpy"
   ]
  },
  {
   "cell_type": "markdown",
   "id": "795997bf",
   "metadata": {},
   "source": [
    "## Exercises with functions:"
   ]
  },
  {
   "cell_type": "markdown",
   "id": "35e71d74",
   "metadata": {},
   "source": [
    " 1. Write a function that receives as parameter a number of 5 digits. Return a list of all prime numbers made of the digits of the parameter."
   ]
  },
  {
   "cell_type": "code",
   "execution_count": 1,
   "id": "2c192e03",
   "metadata": {},
   "outputs": [
    {
     "name": "stdout",
     "output_type": "stream",
     "text": [
      "[13597, 13759, 15739, 15937, 15973, 17359, 17539, 19753, 31957, 37159, 37591, 37951, 39157, 51973, 53197, 53719, 53791, 53917, 57139, 57193, 71359, 71593, 73951, 75193, 75391, 75913, 75931, 79153, 79531, 91573, 91753, 95317, 95713, 95731]\n"
     ]
    }
   ],
   "source": [
    "from typing import List\n",
    "from itertools import permutations\n",
    "\n",
    "\n",
    "def isPrime(number: int) -> bool:\n",
    "    if number <= 1:\n",
    "        return False\n",
    "    elif number == 2 or number == 3:\n",
    "        return True\n",
    "    elif number % 2 == 0 or number % 3 == 0:\n",
    "        return False\n",
    "    else:\n",
    "        for d in range(5, int(number**0.5)+1, 6):\n",
    "            if number % d == 0 or number % (d+2) == 0:\n",
    "                return False\n",
    "    return True\n",
    "\n",
    "\n",
    "def all_prime_with_5_digits(number: int) -> bool:\n",
    "    \"\"\"turns a number into a list of digits, then generates all permutations of the digits, then for every permutation it checks if the number made from it is prime\"\"\"\n",
    "    #maybe check if the number has 5 digits maybe?\n",
    "    primes_list: List[int] = []\n",
    "    digit_list: List[str] = []\n",
    "    for i in str(number):\n",
    "        digit_list.append(i)\n",
    "    perm_of_all_digits: List[str] = list(permutations(digit_list))\n",
    "    for set_of_digits in perm_of_all_digits:\n",
    "        number = 0\n",
    "        for digit in set_of_digits:\n",
    "            number = number*10+int(digit)\n",
    "        if isPrime(number):\n",
    "            primes_list.append(number)\n",
    "    print(primes_list)\n",
    "\n",
    "\n",
    "all_prime_with_5_digits(13579)\n"
   ]
  },
  {
   "cell_type": "markdown",
   "id": "7e42091c",
   "metadata": {},
   "source": [
    "2. Write a function that takes as parameter a phrase of maximum 12 words and returns a tuple which contains only the palindrome words. "
   ]
  },
  {
   "cell_type": "code",
   "execution_count": 2,
   "id": "e6336b54",
   "metadata": {},
   "outputs": [
    {
     "name": "stdout",
     "output_type": "stream",
     "text": [
      "('madam', 'level', 'eye', 'mom', 'goog')\n"
     ]
    }
   ],
   "source": [
    "import string\n",
    "from typing import List\n",
    "\n",
    "\n",
    "def is_palindrome(word: str) -> bool:\n",
    "    #return word == reversed(word)  #this doesn't work\n",
    "    return word == word[::-1]\n",
    "\n",
    "\n",
    "def return_palindrome_words(phrase: str) -> List[str]:\n",
    "    \"\"\"function that returns a list of all the palindrome words in a phrase\"\"\"\n",
    "    #maybe try to check for punctuation and remove it maybe maybe\n",
    "    word_list: List[str] = phrase.split()\n",
    "    palindrome_word_list: tuple = ()\n",
    "    for word in word_list:\n",
    "        if is_palindrome(word):\n",
    "            palindrome_word_list += (word,)\n",
    "\n",
    "    return palindrome_word_list\n",
    "\n",
    "\n",
    "palindrome_word_list: List[str] = return_palindrome_words(\n",
    "    \"madam level eye your mom gae. today issa goog day\")\n",
    "print(palindrome_word_list)\n"
   ]
  },
  {
   "cell_type": "markdown",
   "id": "6a868f43",
   "metadata": {},
   "source": [
    "3. Define a function that takes as parameter a sentence (string or list). Return a tuple of the next: the number of consonants, number of vowels and the number of digits from the given parameter. verify if the sum of the 3 make a perfect square."
   ]
  },
  {
   "cell_type": "code",
   "execution_count": 3,
   "id": "a8483fb7",
   "metadata": {},
   "outputs": [
    {
     "name": "stdout",
     "output_type": "stream",
     "text": [
      "(25, 36, 3)\n",
      "sum of vowels, consonants and digits is: 64\n",
      "the sum of the vowels, consonants and digits is a perfect square\n"
     ]
    }
   ],
   "source": [
    "from typing import Tuple\n",
    "\n",
    "\n",
    "def vowels_consonants_and_digits(phrase: str) -> Tuple[int, int, int]:\n",
    "    \"\"\"the function uses a list of words (if string make it list) and goes through \n",
    "    the list to count the vowels, consonants and digits.\"\"\"\n",
    "    word_list: List[str] = phrase.split() if type(phrase) == str else phrase\n",
    "    vowConDig: Tuple[int, int, int] = (0, 0, 0)\n",
    "    for word in word_list:\n",
    "        for char in word:\n",
    "            if char in \"aeiouAEIOU\":\n",
    "                vowConDig = (vowConDig[0]+1, vowConDig[1], vowConDig[2])\n",
    "            elif char.isalpha():\n",
    "                vowConDig = (vowConDig[0], vowConDig[1]+1, vowConDig[2])\n",
    "            elif char.isdigit():\n",
    "                vowConDig = (vowConDig[0], vowConDig[1], vowConDig[2]+1)\n",
    "    return vowConDig\n",
    "\n",
    "\n",
    "vowConDig: Tuple[int, int, int] = vowels_consonants_and_digits(\n",
    "    \"sometimes you have to lose yourself first in order to find yourself later... 123\")\n",
    "print(vowConDig)\n",
    "sumOfVowConDig: int = vowConDig[0]+vowConDig[1]+vowConDig[2]\n",
    "print(\"sum of vowels, consonants and digits is:\", sumOfVowConDig)\n",
    "if sumOfVowConDig**0.5 == int(sumOfVowConDig**0.5):\n",
    "    print(\"the sum of the vowels, consonants and digits is a perfect square\")\n",
    "else:\n",
    "    print(\"the sum of the vowels, consonants and digits is NOT a perfect square\")"
   ]
  },
  {
   "cell_type": "markdown",
   "id": "7e116648",
   "metadata": {},
   "source": [
    "4. Write a recursive function that determines if a number can be broken down into a sum of consecutive numbers"
   ]
  },
  {
   "cell_type": "code",
   "execution_count": 4,
   "id": "623a58e7",
   "metadata": {},
   "outputs": [
    {
     "name": "stdout",
     "output_type": "stream",
     "text": [
      "5 + 6 + 7 = 18\n"
     ]
    },
    {
     "data": {
      "text/plain": [
       "{}"
      ]
     },
     "execution_count": 4,
     "metadata": {},
     "output_type": "execute_result"
    }
   ],
   "source": [
    "def is_sum_of_consec_nbs(number: int, a: int, sumOfConsec: int):\n",
    "    \"\"\"recursive function that checks if a number can be the sum of some consecutive numbers.\n",
    "    unless 'number' is odd (->it surely can be sum of two consec nbs) recursively increase 'a' and 'sumOfConsec'\n",
    "    form: a + (a+1) + (a+2) + (a+3) + (a+4) + (a+5) + (a+6) + (a+7) + (a+8).\n",
    "    a=    1     2       3       4       5       6       7       8       9 \n",
    "    soc=  0     1       3       6       10      15      21      28      36\n",
    "    ex: 'number'=38 gets to 'a'=4 and 'sumOfConsec'=6 ==> a + (a+1) + (a+2) + (a+3) = 4a+6\n",
    "    ==> 4a+6=38 ==> 4a=38-6 ==> 4a=32 ==> a=8 ==> 8+9+10+11=38\"\"\"\n",
    "    if int(number % 2) != 0:\n",
    "        print(number//2, \"+\", number//2+1, \"=\", number)\n",
    "        return True\n",
    "    elif int(number-sumOfConsec) % a == 0:\n",
    "        for i in range(0, a):\n",
    "            print((number-sumOfConsec)//a + i, \"+\", end=\" \")\n",
    "        print(\"\\b\\b=\", number)\n",
    "        return True\n",
    "    elif sumOfConsec+a > number:\n",
    "        print(\"the number cannot be a sum of consec numbers\")\n",
    "        return False\n",
    "    is_sum_of_consec_nbs(number, a+1, sumOfConsec+a)\n",
    "\n",
    "\n",
    "if __name__ == \"__main__\":\n",
    "    a: int = 2\n",
    "    sumOfConsec: int = 1\n",
    "    isTru: bool = is_sum_of_consec_nbs(int(18), a, sumOfConsec)\n",
    "\n",
    "{  # iterative version\n",
    "    # def can_split_in_sum_of_consec(number: int) -> bool:\n",
    "    #     \"\"\"this function goes as follows: if the number is odd it surely can be a sum of consecutive nbs. else it goes by\n",
    "    #     the formula n+(n+1)+(n+2)+... with every iteration until the \"side\" sum is bigger than the number. if the number\n",
    "    #     minus the \"side\" sum is a multiple of \"n\" then we found the first elem of the sequence and we can return True\n",
    "    #     ex: for 46 we have n+(n+1)+(n+2)+(n+3). 4n+6=46. 4n=46-6. 4n=40 n=10. 10+11+12+13=46.\"\"\"\n",
    "    #     #maybe try to make it recursive maybe?\n",
    "    #\n",
    "    #     if number % 2 != 0:\n",
    "    #         print(number//2, \"+\", number//2+1, \"=\", number)\n",
    "    #         return True\n",
    "    #     sumOfConsec: int = 1\n",
    "    #     a: int = 2\n",
    "    #     while sumOfConsec+a < number:\n",
    "    #         if (number-sumOfConsec) % a == 0:\n",
    "    #             for i in range(0, a):\n",
    "    #                 print((number-sumOfConsec)//a + i, \"+\", end=\" \")\n",
    "    #             print(\"\\b\\b=\", number)\n",
    "    #             return True\n",
    "    #         sumOfConsec += a\n",
    "    #         a += 1\n",
    "    #     print(\"the number cannot be a sum of consec numbers\")\n",
    "    #     return False\n",
    "\n",
    "    # can_split_in_sum_of_consec(44)\n",
    "}\n"
   ]
  },
  {
   "cell_type": "markdown",
   "id": "52b5d98e",
   "metadata": {},
   "source": [
    "## Numpy exercises"
   ]
  },
  {
   "cell_type": "markdown",
   "id": "0ae82add",
   "metadata": {},
   "source": [
    "1. A NumPy vector is given. Determine the list of unique elements. Make a square matrix of dimension `len(v)/2` that contains the unique elements of the vector.\n",
    "Complete with gcd of the unique elements the empty positions of the matrix."
   ]
  },
  {
   "cell_type": "code",
   "execution_count": 5,
   "id": "784b0a1a",
   "metadata": {},
   "outputs": [
    {
     "name": "stdout",
     "output_type": "stream",
     "text": [
      "[ 28.   4.  12.  16. 100.   4.   4.   4.   4.]\n",
      "[[ 28.   4.  12.]\n",
      " [ 16. 100.   4.]\n",
      " [  4.   4.   4.]]\n"
     ]
    }
   ],
   "source": [
    "import numpy as np\n",
    "from typing import List\n",
    "\n",
    "def gcd(a: int, b: int) -> int:\n",
    "    #orig version: return a if b == 0 else gcd(b, a % b)\n",
    "    \"\"\"euclidean algorithm\"\"\"\n",
    "    while b:\n",
    "        a, b = b, a % b\n",
    "    return a\n",
    "def find_gcd_of_arr(arr: np.ndarray) -> int:\n",
    "    gcd_of_arr: int = int(arr[0])\n",
    "    for i in range(1, len(arr)):\n",
    "        gcd_of_arr = gcd(gcd_of_arr, arr[i])\n",
    "    return gcd_of_arr\n",
    "\n",
    "def expand_list_with_gcd_of_elems(unique_elem_list: np.ndarray, size_of_matrix: int) -> np.ndarray:\n",
    "    \"\"\"given a perfect square number, expand the list with the gcd of the elements to the size of that number\"\"\"\n",
    "    gcd_of_unique_elem_list: int = find_gcd_of_arr(unique_elem_list)\n",
    "    for i in range(unique_elem_list.size, size_of_matrix):\n",
    "        unique_elem_list = np.append(unique_elem_list, gcd_of_unique_elem_list)\n",
    "    return unique_elem_list\n",
    "\n",
    "\n",
    "def is_square_root(number: float) -> bool:\n",
    "    return True if number**0.5 == int(number**0.5) else False\n",
    "def get_size_of_square_matrix(number: int) -> int:\n",
    "    \"\"\"gets the next perfect square number\"\"\"\n",
    "    if (is_square_root(number) == False):\n",
    "        number = number+1\n",
    "        while (is_square_root(number) == False):\n",
    "            number += 1\n",
    "    return int(number**0.5)\n",
    "\n",
    "\n",
    "def create_matrix_of_size_square_root(size_of_unique_elem_list: int) -> List[List[int]]:\n",
    "    \"\"\"takes the length of the unique_elem_list and creates a matrix of size greater than or equal to that length\n",
    "    (the size has to be square root because the matrix is a square)\"\"\"\n",
    "    size_of_matrix: int = get_size_of_square_matrix(size_of_unique_elem_list)\n",
    "    matrix_of_unique_elem: np.ndarray = np.zeros(shape=(size_of_matrix, size_of_matrix), dtype=int)\n",
    "    return matrix_of_unique_elem\n",
    "\n",
    "\n",
    "def make_list_of_unique_elem(arr: np.ndarray) -> np.ndarray:\n",
    "    \"\"\"goes through every elem of the array and if it appears only once (its unique) it gets \n",
    "    added to the list of unique elems, otherwise it gets to the list of non-unique ones\"\"\"\n",
    "    unique_elem_list: np.ndarray = np.array([])\n",
    "    not_unique_elem_list: np.ndarray = np.array([])\n",
    "    for i in range(0, len(arr)):\n",
    "        if arr[i] not in not_unique_elem_list:\n",
    "            elemIsUnique: bool = True\n",
    "            for ii in range(i+1, len(arr)):\n",
    "                if arr[i] == arr[ii]:\n",
    "                    elemIsUnique = False\n",
    "                    break\n",
    "            if elemIsUnique:\n",
    "                unique_elem_list = np.append(unique_elem_list, arr[i])\n",
    "            else:\n",
    "                not_unique_elem_list = np.append(not_unique_elem_list, arr[i])\n",
    "    return unique_elem_list\n",
    "\n",
    "\n",
    "if __name__ == \"__main__\":\n",
    "    arr: np.ndarray = np.array([28, 2, 2, 4, 12, 6, 2, 6, 16, 100, 2])\n",
    "    unique_elem_list: np.ndarray = make_list_of_unique_elem(arr)\n",
    "\n",
    "    matrix_of_unique_elems: np.ndarray = create_matrix_of_size_square_root(unique_elem_list.size)\n",
    "\n",
    "    unique_elem_list = expand_list_with_gcd_of_elems(unique_elem_list, matrix_of_unique_elems.size)\n",
    "    print(unique_elem_list)\n",
    "\n",
    "    matrix_of_unique_elem = unique_elem_list.reshape(matrix_of_unique_elems.shape)\n",
    "    print(matrix_of_unique_elem)\n"
   ]
  },
  {
   "cell_type": "markdown",
   "id": "72ce9765",
   "metadata": {},
   "source": [
    "2. ..."
   ]
  },
  {
   "cell_type": "markdown",
   "id": "12d26223",
   "metadata": {},
   "source": [
    "3. For a matrix of numbers determine the sum between the min and max of elements from each row or each column, based on the value of a parameter of type boolean `compute_on_columns`."
   ]
  },
  {
   "cell_type": "code",
   "execution_count": 6,
   "id": "0f0e3780",
   "metadata": {},
   "outputs": [
    {
     "name": "stdout",
     "output_type": "stream",
     "text": [
      "[[35 90 42 22]\n",
      " [62 64 96 82]\n",
      " [88 60 38  5]]\n",
      "compute_on_column is: False\n",
      "363\n",
      "\n",
      "axis=0 =>\n",
      "min= [35 60 38  5] \n",
      " max= [88 90 96 82]\n",
      "axis=1 =>\n",
      "min= [22 62  5] \n",
      " max= [90 96 88]\n"
     ]
    }
   ],
   "source": [
    "import numpy as np\n",
    "import random\n",
    "\n",
    "def sum_of_min_max_lines_or_collumns(matrix, compute_on_column:bool) -> None:\n",
    "    \"\"\"computes the sum of the min and max of: if compute_on_column is True, every column, otherwise every line\n",
    "    (but negated in the expression because shape[0] means rows but axis=0 means collumns so axis=1 means rows).\n",
    "    # amin\"\"\"\n",
    "    print(\"compute_on_column is:\", compute_on_column)\n",
    "    sum_of_min_max=np.amin(matrix, axis=int(not compute_on_column)) + np.amax(matrix, axis=int(not compute_on_column))\n",
    "    print(sum_of_min_max.sum())\n",
    "    \n",
    "    print(\"\\naxis=0 =>\")\n",
    "    min=np.amin(matrix, axis=0)\n",
    "    max=np.amax(matrix, axis=0)\n",
    "    print(\"min=\", min, \"\\n\",\"max=\", max)\n",
    "    print(\"axis=1 =>\")\n",
    "    min=np.amin(matrix, axis=1)\n",
    "    max=np.amax(matrix, axis=1)\n",
    "    print(\"min=\", min, \"\\n\",\"max=\", max)\n",
    "\n",
    "def main() -> None:\n",
    "    matrix=np.full(shape=(3,4), fill_value=0, dtype=int)\n",
    "    for i in range(0, matrix.shape[0]):\n",
    "        for j in range(0, matrix.shape[1]):\n",
    "            matrix[i,j]=random.randrange(0, 100)\n",
    "    print(matrix)\n",
    "    sum_of_min_max_lines_or_collumns(matrix, random.choice([True, False]))\n",
    "main()"
   ]
  },
  {
   "cell_type": "markdown",
   "id": "836e41e9",
   "metadata": {},
   "source": [
    "4. For a number given as input from keybaord, detemine a square matrix of random elements in the interval `[0, 2n]`. Calculate the min of elements from the main diagonal and the max of elements from the secondary diagonal. Return the sum of the 2 values."
   ]
  },
  {
   "cell_type": "code",
   "execution_count": 7,
   "id": "23108306",
   "metadata": {},
   "outputs": [
    {
     "name": "stdout",
     "output_type": "stream",
     "text": [
      "[[ 7  3  4  1]\n",
      " [ 2 10  8  5]\n",
      " [ 0  2  1  4]\n",
      " [ 1  8 10 10]]\n",
      "(1, 8)\n"
     ]
    }
   ],
   "source": [
    "import random\n",
    "import numpy as np\n",
    "\n",
    "\n",
    "def main():\n",
    "    \"\"\"generates a square matrix of defined size and every elem is a random nb from 0 until up to 2*n\n",
    "    then traverses the main diagonal for the smallest elem in there and the secondary diagonal for the biggest elem in there\"\"\"\n",
    "    #i made everything in main ik ik\n",
    "    n: int = input(\"n:\")\n",
    "    while (not n.isnumeric()):\n",
    "        n = input(\"n needs to be a number. try again:\")\n",
    "    matrix: np.ndarray[int] = np.array(\n",
    "        [[random.randrange(0, 2*int(n)+1) for i in range(4)] for j in range(4)])\n",
    "    matrix = matrix.reshape(4, 4)\n",
    "    print(matrix)\n",
    "\n",
    "    min: int = matrix[0, 0]\n",
    "    for i in range(matrix.shape[0]):\n",
    "        if (matrix[i, i] < min):\n",
    "            min = matrix[i, i]\n",
    "    max: int = matrix[0, matrix.shape[1]-1]\n",
    "    for (i, j) in zip(range(matrix.shape[0]), range(matrix.shape[1]-1, -1, -1)):\n",
    "        if (matrix[i, j] > max):\n",
    "            max = matrix[i, j]\n",
    "    return (min, max)\n",
    "\n",
    "\n",
    "min_max: tuple[int, int] = main()\n",
    "print(min_max)\n"
   ]
  },
  {
   "cell_type": "markdown",
   "id": "28d41c8f",
   "metadata": {},
   "source": [
    "5. Download the Wine dataset from 'http://archive.ics.uci.edu/ml/datasets/Wine', the file `wine.data`, and upload it into a Numpy matrix using `np.genfromtxt`. Pick 28 random positions from the matrix, set the positions to `nan`, create a function which, given a matrix, returns a colection of indexes of rows and columns in which `nan` values are located, as well as the \"fixed\" matrix: the values `nan` are replaced with a value given as parameter."
   ]
  },
  {
   "cell_type": "code",
   "execution_count": 8,
   "id": "f98b75e2",
   "metadata": {},
   "outputs": [
    {
     "name": "stdout",
     "output_type": "stream",
     "text": [
      "[[1.000e+00 1.423e+01 1.710e+00 ... 1.040e+00 3.920e+00 1.065e+03]\n",
      " [1.000e+00 1.320e+01 1.780e+00 ... 1.050e+00 3.400e+00 1.050e+03]\n",
      " [1.000e+00 1.316e+01 2.360e+00 ... 1.030e+00 3.170e+00 1.185e+03]\n",
      " ...\n",
      " [3.000e+00 1.327e+01 4.280e+00 ... 5.900e-01 1.560e+00 8.350e+02]\n",
      " [3.000e+00 1.317e+01 2.590e+00 ... 6.000e-01 1.620e+00 8.400e+02]\n",
      " [3.000e+00 1.413e+01 4.100e+00 ... 6.100e-01 1.600e+00 5.600e+02]]\n",
      "[(6, 6), (13, 4), (17, 9), (22, 0), (22, 9), (34, 0), (41, 11), (44, 3), (44, 7), (45, 3), (48, 2), (52, 6), (52, 12), (66, 5), (75, 6), (79, 3), (82, 10), (85, 9), (86, 10), (93, 2), (108, 5), (127, 9), (130, 11), (133, 12), (134, 10), (154, 2), (154, 9), (155, 11)]\n"
     ]
    }
   ],
   "source": [
    "from cmath import nan\n",
    "import numpy as np\n",
    "import random\n",
    "\n",
    "def turn_nan_positions_to_value(matrix: np.ndarray, value: int):\n",
    "    \"\"\"goes through every elem of the matrix, finds the nans, remembers the indexes of the nan positions \n",
    "    in a list, changes the nans into a given value and returns the list of changed indexes.\"\"\"\n",
    "    list_of_indexes_changed: List[Tuple]=[]\n",
    "    for i in range(matrix.shape[0]):\n",
    "        for j in range(matrix.shape[1]):\n",
    "            if np.isnan(matrix[i, j]):\n",
    "                list_of_indexes_changed.append((i, j))\n",
    "                matrix[i, j]=value\n",
    "    print(list_of_indexes_changed)\n",
    "    return list_of_indexes_changed\n",
    "            \n",
    "\n",
    "def turn_random_positions_to_nan(matrix, numberOfPositions):\n",
    "    \"\"\"turns a given number of positions in the matrix to nans. the positions are chosen randomly\"\"\"\n",
    "    for counter in range(0, numberOfPositions):\n",
    "        i=random.randrange(0, matrix.shape[0])\n",
    "        j=random.randrange(0, matrix.shape[1])\n",
    "        matrix[i, j]=nan\n",
    "\n",
    "def main():\n",
    "    matrix: np.ndarray=np.genfromtxt('files\\wine.data', delimiter=',')\n",
    "    print(matrix)\n",
    "    turn_random_positions_to_nan(matrix, 28)\n",
    "    turn_nan_positions_to_value(matrix, 0)  #return to where..\n",
    "    \n",
    "if __name__ == \"__main__\":\n",
    "    main()"
   ]
  }
 ],
 "metadata": {
  "kernelspec": {
   "display_name": "Python 3 (ipykernel)",
   "language": "python",
   "name": "python3"
  },
  "language_info": {
   "codemirror_mode": {
    "name": "ipython",
    "version": 3
   },
   "file_extension": ".py",
   "mimetype": "text/x-python",
   "name": "python",
   "nbconvert_exporter": "python",
   "pygments_lexer": "ipython3",
   "version": "3.10.0"
  },
  "vscode": {
   "interpreter": {
    "hash": "58f10e1b20caf39f3bae4facf866a1e85e14779671631b268474442cf9b2784d"
   }
  }
 },
 "nbformat": 4,
 "nbformat_minor": 5
}
